{
 "cells": [
  {
   "cell_type": "code",
   "execution_count": 6,
   "source": [
    "import matplotlib.pyplot as plt\r\n",
    "import numpy as np\r\n",
    "from more_itertools import repeatfunc\r\n",
    "\r\n",
    "from gacha import GachaMachine"
   ],
   "outputs": [],
   "metadata": {}
  },
  {
   "cell_type": "code",
   "execution_count": 7,
   "source": [
    "SAMPLES = 1_000_000\r\n",
    "EXPECTED_RESULT = GachaMachine.PullResult.BANNER"
   ],
   "outputs": [],
   "metadata": {}
  },
  {
   "cell_type": "code",
   "execution_count": 8,
   "source": [
    "def make_pulls(\r\n",
    "    pull_type,\r\n",
    "    pull_count,\r\n",
    "    samples,\r\n",
    "):\r\n",
    "    return list(repeatfunc(\r\n",
    "        lambda: GachaMachine().pull_while(pull_type, pull_count),\r\n",
    "        times=samples,\r\n",
    "    ))\r\n",
    "\r\n",
    "def make_hist(pulls):\r\n",
    "    data = np.asarray(pulls)\r\n",
    "    plt.hist(data, np.arange(data.min() - 0.5, data.max() + 1.5))\r\n",
    "    plt.axvline(np.bincount(data).argmax(), color='k', linestyle='dashed', linewidth=1)\r\n",
    "    return plt.show()"
   ],
   "outputs": [],
   "metadata": {}
  },
  {
   "cell_type": "code",
   "execution_count": 9,
   "source": [
    "pulls = make_pulls(\r\n",
    "    pull_type=GachaMachine.PullResult.BANNER,\r\n",
    "    pull_count=2,\r\n",
    "    samples=1_000_000,\r\n",
    ")"
   ],
   "outputs": [],
   "metadata": {}
  },
  {
   "cell_type": "code",
   "execution_count": 10,
   "source": [
    "make_hist(pulls)"
   ],
   "outputs": [
    {
     "output_type": "display_data",
     "data": {
      "image/png": "[encoded data removed]",
      "text/plain": [
       "<Figure size 432x288 with 1 Axes>"
      ]
     },
     "metadata": {
      "needs_background": "light"
     }
    }
   ],
   "metadata": {}
  },
  {
   "cell_type": "code",
   "execution_count": 11,
   "source": [
    "pulls = make_pulls(\r\n",
    "    pull_type=GachaMachine.PullResult.BANNER,\r\n",
    "    pull_count=10,\r\n",
    "    samples=1_000_000,\r\n",
    ")"
   ],
   "outputs": [],
   "metadata": {}
  },
  {
   "cell_type": "code",
   "execution_count": 12,
   "source": [
    "make_hist(pulls)"
   ],
   "outputs": [
    {
     "output_type": "display_data",
     "data": {
      "image/png": "[encoded data removed]",
      "text/plain": [
       "<Figure size 432x288 with 1 Axes>"
      ]
     },
     "metadata": {
      "needs_background": "light"
     }
    }
   ],
   "metadata": {}
  }
 ],
 "metadata": {
  "kernelspec": {
   "name": "python3",
   "display_name": "Python 3.9.7 64-bit ('.venv': poetry)"
  },
  "language_info": {
   "codemirror_mode": {
    "name": "ipython",
    "version": 3
   },
   "file_extension": ".py",
   "mimetype": "text/x-python",
   "name": "python",
   "nbconvert_exporter": "python",
   "pygments_lexer": "ipython3",
   "version": "3.9.7"
  },
  "interpreter": {
   "hash": "67c6b32082b54e33c796505f124d3ded7057cc3646b5a3592af217bfd7b952f8"
  }
 },
 "nbformat": 4,
 "nbformat_minor": 5
}