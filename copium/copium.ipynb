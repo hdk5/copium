{
 "cells": [
  {
   "cell_type": "markdown",
   "source": [
    "# Alchemy Stars Gacha Simulations\r\n",
    "\r\n",
    "Built for Dragon Maid collab event"
   ],
   "metadata": {}
  },
  {
   "cell_type": "markdown",
   "source": [
    "### Imports"
   ],
   "metadata": {}
  },
  {
   "cell_type": "code",
   "execution_count": 5,
   "source": [
    "import matplotlib.pyplot as plt\r\n",
    "import numpy as np\r\n",
    "\r\n",
    "from copium.gacha import _GachaMachineCompanion"
   ],
   "outputs": [],
   "metadata": {}
  },
  {
   "cell_type": "markdown",
   "source": [
    "### Parameters\r\n",
    "\r\n",
    "`SAMPLES` - sample size\r\n",
    "\r\n",
    "`UNIT` - amou of different units\r\n",
    "\r\n",
    "`MBT` - number of the same unit for max breakthrough"
   ],
   "metadata": {}
  },
  {
   "cell_type": "code",
   "execution_count": 6,
   "source": [
    "SAMPLES = 1_000_000\r\n",
    "UNITS = 2\r\n",
    "MBT = 5\r\n",
    "\r\n",
    "EXPECTED_RESULT = _GachaMachineCompanion.PullResult.BANNER"
   ],
   "outputs": [],
   "metadata": {}
  },
  {
   "cell_type": "markdown",
   "source": [
    "### Define function to draw histograms"
   ],
   "metadata": {}
  },
  {
   "cell_type": "code",
   "execution_count": 7,
   "source": [
    "def make_hist(pulls):\r\n",
    "    data = np.asarray(pulls)\r\n",
    "    plt.hist(data, np.arange(data.min() - 0.5, data.max() + 1.5))\r\n",
    "    plt.axvline(np.bincount(data).argmax(), color='k', linestyle='dashed', linewidth=1)\r\n",
    "    return plt.show()"
   ],
   "outputs": [],
   "metadata": {}
  },
  {
   "cell_type": "markdown",
   "source": [
    "### Calculate pulls for BT2 SSRs\r\n",
    "\r\n",
    "As both SSRs are in two separate banners, it is the same as pulling one girl twice in one banner"
   ],
   "metadata": {}
  },
  {
   "cell_type": "code",
   "execution_count": 8,
   "source": [
    "pulls = _GachaMachineCompanion.make_pulls_distribution(\r\n",
    "    samples=SAMPLES,\r\n",
    "    expected=EXPECTED_RESULT,\r\n",
    "    amount=UNITS,\r\n",
    ")"
   ],
   "outputs": [],
   "metadata": {}
  },
  {
   "cell_type": "code",
   "execution_count": 9,
   "source": [
    "make_hist(pulls)"
   ],
   "outputs": [
    {
     "output_type": "display_data",
     "data": {
      "image/png": "[encoded data removed]",
      "text/plain": [
       "<Figure size 432x288 with 1 Axes>"
      ]
     },
     "metadata": {
      "needs_background": "light"
     }
    }
   ],
   "metadata": {}
  },
  {
   "cell_type": "markdown",
   "source": [
    "### Calculate pulls for MBT SSRs"
   ],
   "metadata": {}
  },
  {
   "cell_type": "code",
   "execution_count": 10,
   "source": [
    "pulls = _GachaMachineCompanion.make_pulls_distribution(\r\n",
    "    samples=SAMPLES,\r\n",
    "    expected=EXPECTED_RESULT,\r\n",
    "    amount=UNITS * MBT,\r\n",
    ")"
   ],
   "outputs": [],
   "metadata": {}
  },
  {
   "cell_type": "code",
   "execution_count": 11,
   "source": [
    "make_hist(pulls)"
   ],
   "outputs": [
    {
     "output_type": "display_data",
     "data": {
      "image/png": "[encoded data removed]",
      "text/plain": [
       "<Figure size 432x288 with 1 Axes>"
      ]
     },
     "metadata": {
      "needs_background": "light"
     }
    }
   ],
   "metadata": {}
  }
 ],
 "metadata": {
  "kernelspec": {
   "name": "python3",
   "display_name": "Python 3.9.7 64-bit ('.venv': poetry)"
  },
  "language_info": {
   "codemirror_mode": {
    "name": "ipython",
    "version": 3
   },
   "file_extension": ".py",
   "mimetype": "text/x-python",
   "name": "python",
   "nbconvert_exporter": "python",
   "pygments_lexer": "ipython3",
   "version": "3.9.7"
  },
  "interpreter": {
   "hash": "67c6b32082b54e33c796505f124d3ded7057cc3646b5a3592af217bfd7b952f8"
  }
 },
 "nbformat": 4,
 "nbformat_minor": 5
}